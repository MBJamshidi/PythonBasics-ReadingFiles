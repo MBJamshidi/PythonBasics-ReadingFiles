{
 "cells": [
  {
   "cell_type": "code",
   "execution_count": 1,
   "metadata": {},
   "outputs": [
    {
     "name": "stdout",
     "output_type": "stream",
     "text": [
      "((Use slash instead of backslash))((Use slash instead of backslash))((Use slash instead of backslash))\n",
      "asgiref==3.2.3\n",
      "Django==3.0.2\n",
      "pytz==2019.3\n",
      "sqlparse==0.3.0\n",
      "\n",
      "Name of the File1: C:/Users/VAIO/Desktop/MyDjango/MyPackages.txt\n",
      "Mode of the File1 r\n",
      "Name of the Fileb: OPEN_Function.txt\n",
      "Mode of the Fileb r\n"
     ]
    }
   ],
   "source": [
    "#Python Basics\n",
    "#Reading files using \"open\"\n",
    "#you should use \"slash\" //////////////instead of backslash\\\\\\\\\\\\\\\\\\\\\\\\\\\\ in addressing \n",
    "#We will use Python’s open function to get a file object\n",
    "#We can apply a method to that object to read data from the file\n",
    "\n",
    "#The open() function opens a file, and returns it as a file object.\n",
    "\n",
    "#Method 1\n",
    "#you should use \"slash\" /////////////instead of backslash\\\\\\\\\\\\\\\\\\\\\\\\\\\\ in addresing\n",
    "print(\"((Use slash instead of backslash))\"*3)\n",
    "File1=open(\"C:/Users/VAIO/Desktop/MyDjango/MyPackages.txt\", \"r\")\n",
    "print(File1.read())\n",
    "\n",
    "#mode A string, define which mode you want to open the file in:\n",
    "#\"r\" - Read - Default value. Opens a file for reading, error if the file does not exist\n",
    "#\"a\" - Append - Opens a file for appending, creates the file if it does not exist\n",
    "#\"w\" - Write - Opens a file for writing, creates the file if it does not exist\n",
    "#\"x\" - Create - Creates the specified file, returns an error if the file exist\n",
    "\n",
    "#We can use the data \"attribute name\" to get the name of the file\n",
    "print(\"Name of the File1:\", File1.name)\n",
    "#We can see what mode the object is in using the data \"attribute mode\"\n",
    "print(\"Mode of the File1\", File1.mode)\n",
    "\n",
    "#Method 2\n",
    "#You can call the files within a relative folder where the notebook is saved as follows without any extra address\n",
    "Fileb=open(\"OPEN_Function.txt\", \"r\") \n",
    "#NOTE: In this method, both \"file\" and its \"JUPYTER notebook\" is saved in the same folder\n",
    "print(\"Name of the Fileb:\", Fileb.name)\n",
    "#We can see what mode the object is in using the data \"attribute mode\"\n",
    "print(\"Mode of the Fileb\", Fileb.mode)\n"
   ]
  },
  {
   "cell_type": "code",
   "execution_count": 2,
   "metadata": {},
   "outputs": [
    {
     "name": "stdout",
     "output_type": "stream",
     "text": [
      "'with open' for File2: The method read stores the values of the file in the variable file_stuff as a string.\n",
      "You can print the file content.\n",
      "You can check if the file content is closed, but you cannot read from it outside the indent.\n",
      "But you can print the file content outside the indent as well.\n",
      "We can print the file content.\n",
      "We will see the following.\n",
      "When we examine the raw string, we will see the slash n; this is so Python knows to start\n",
      "a new line.\n",
      "We can output every line as an element in a list using the method readlines.\n",
      "'with open' for File2.closed: True\n",
      "The method read stores the values of the file in the variable file_stuff as a string.\n",
      "You can print the file content.\n",
      "You can check if the file content is closed, but you cannot read from it outside the indent.\n",
      "But you can print the file content outside the indent as well.\n",
      "We can print the file content.\n",
      "We will see the following.\n",
      "When we examine the raw string, we will see the slash n; this is so Python knows to start\n",
      "a new line.\n",
      "We can output every line as an element in a list using the method readlines.\n",
      "'with open' for File3: asgiref==3.2.3\n",
      "Django==3.0.2\n",
      "pytz==2019.3\n",
      "sqlparse==0.3.0\n",
      "\n",
      "'with open' for File3.closed: True\n",
      "asgiref==3.2.3\n",
      "Django==3.0.2\n",
      "pytz==2019.3\n",
      "sqlparse==0.3.0\n",
      "\n"
     ]
    }
   ],
   "source": [
    "#Closing File\n",
    "#You should always close the file object using the \"method close\"\n",
    "#\"File.close()\"\n",
    "File1.close()\n",
    "# After closing the file, you cannot use print(File1.read()) because there is no file to be read\n",
    "#Closing file may get tedious sometimes, so let’s use the “with statement”\n",
    "#Using a 'with' statement to open the file is better practice because it automatically closes the file\n",
    "\n",
    "#example2\n",
    "with open(\"OPEN_Function.txt\", \"r\") as File2:\n",
    "    NeededFile=File2.read()\n",
    "    print(\"'with open' for File2:\",NeededFile)\n",
    "print(\"'with open' for File2.closed:\",File2.closed)\n",
    "#You can check if the file content is closed, but you cannot read from it outside the indent\n",
    "#But you can print the file content outside the indent as well\n",
    "print(NeededFile)\n",
    "\n",
    "#example2\n",
    "with open(\"C:/Users/VAIO/Desktop/MyDjango/MyPackages.txt\", \"r\") as File3:\n",
    "    NeededFile2=File3.read()\n",
    "    print(\"'with open' for File3:\",NeededFile2)\n",
    "print(\"'with open' for File3.closed:\",File3.closed)\n",
    "print(NeededFile2)\n",
    "\n",
    "#The code will run everything in the indent block, then closes the file"
   ]
  },
  {
   "cell_type": "code",
   "execution_count": 3,
   "metadata": {},
   "outputs": [
    {
     "name": "stdout",
     "output_type": "stream",
     "text": [
      "'with open' for File2: The method read stores the values of the file in the variable file_stuff as a string.\n",
      "You can print the file content.\n",
      "You can check if the file content is closed, but you cannot read from it outside the indent.\n",
      "But you can print the file content outside the indent as well.\n",
      "We can print the file content.\n",
      "We will see the following.\n",
      "When we examine the raw string, we will see the slash n; this is so Python knows to start\n",
      "a new line.\n",
      "We can output every line as an element in a list using the method readlines.\n",
      "'with open' for File2.closed: True\n",
      "The method read stores the values of the file in the variable file_stuff as a string.\n",
      "You can print the file content.\n",
      "You can check if the file content is closed, but you cannot read from it outside the indent.\n",
      "But you can print the file content outside the indent as well.\n",
      "We can print the file content.\n",
      "We will see the following.\n",
      "When we examine the raw string, we will see the slash n; this is so Python knows to start\n",
      "a new line.\n",
      "We can output every line as an element in a list using the method readlines.\n"
     ]
    },
    {
     "data": {
      "text/plain": [
       "'The method read stores the values of the file in the variable file_stuff as a string.\\nYou can print the file content.\\nYou can check if the file content is closed, but you cannot read from it outside the indent.\\nBut you can print the file content outside the indent as well.\\nWe can print the file content.\\nWe will see the following.\\nWhen we examine the raw string, we will see the slash n; this is so Python knows to start\\na new line.\\nWe can output every line as an element in a list using the method readlines.'"
      ]
     },
     "execution_count": 3,
     "metadata": {},
     "output_type": "execute_result"
    }
   ],
   "source": [
    "#We can print the file content\n",
    "#We will see the following\n",
    "\n",
    "with open(\"OPEN_Function.txt\", \"r\") as File2:\n",
    "    NeededFile=File2.read()\n",
    "    print(\"'with open' for File2:\",NeededFile)\n",
    "print(\"'with open' for File2.closed:\",File2.closed)\n",
    "#You can check if the file content is closed, but you cannot read from it outside the indent\n",
    "#But you can print the file content outside the indent as well\n",
    "print(NeededFile)\n",
    "#When we examine the raw string, we will see the \"backslash n\" \\n; this is so Python knows to start a new line\n",
    "NeededFile\n"
   ]
  },
  {
   "cell_type": "code",
   "execution_count": 4,
   "metadata": {},
   "outputs": [
    {
     "name": "stdout",
     "output_type": "stream",
     "text": [
      "'with open' for File2: ['The method read stores the values of the file in the variable file_stuff as a string.\\n', 'You can print the file content.\\n', 'You can check if the file content is closed, but you cannot read from it outside the indent.\\n', 'But you can print the file content outside the indent as well.\\n', 'We can print the file content.\\n', 'We will see the following.\\n', 'When we examine the raw string, we will see the slash n; this is so Python knows to start\\n', 'a new line.\\n', 'We can output every line as an element in a list using the method readlines.']\n",
      "'with open' for File2.closed: True\n",
      "Line 1: You can print the file content.\n",
      "\n",
      "Line 2: You can check if the file content is closed, but you cannot read from it outside the indent.\n",
      "\n",
      "Line 3: But you can print the file content outside the indent as well.\n",
      "\n",
      "Line 4: We can print the file content.\n",
      "\n",
      "Line 5: We will see the following.\n",
      "\n",
      "Line 6: When we examine the raw string, we will see the slash n; this is so Python knows to start\n",
      "\n",
      "Using readline instead readlines[1]: The method read stores the values of the file in the variable file_stuff as a string.\n",
      "\n",
      "Using readline instead readlines[2]: You can print the file content.\n",
      "\n",
      "Using readline instead readlines[3]: You can check if the file content is closed, but you cannot read from it outside the indent.\n",
      "\n"
     ]
    }
   ],
   "source": [
    "#readline\n",
    "#We can output every line as an element in a list using the \"method readlines\" not \"method readline\"\n",
    "with open(\"OPEN_Function.txt\", \"r\") as File2:\n",
    "    NeededFile=File2.readlines()\n",
    "    print(\"'with open' for File2:\",NeededFile)\n",
    "print(\"'with open' for File2.closed:\",File2.closed)\n",
    "print(\"Line 1:\",NeededFile[1])\n",
    "print(\"Line 2:\",NeededFile[2])\n",
    "print(\"Line 3:\",NeededFile[3])\n",
    "print(\"Line 4:\",NeededFile[4])\n",
    "print(\"Line 5:\",NeededFile[5])\n",
    "print(\"Line 6:\",NeededFile[6])\n",
    "\n",
    "\n",
    "#readline vs readlines\n",
    "\n",
    "#readline vs readlines\n",
    "\n",
    "#readline vs readlines\n",
    "\n",
    "#We can use the method readline to read the first line of the file\n",
    "with open(\"OPEN_Function.txt\", \"r\") as File2:\n",
    "    NeededFile=File2.readline()\n",
    "    print(\"Using readline instead readlines[1]:\",NeededFile)\n",
    "    #The second time it’s called it will save the second line in the variable NeededFile\n",
    "    NeededFile=File2.readline()\n",
    "    print(\"Using readline instead readlines[2]:\",NeededFile)\n",
    "    #The third time it’s called it will save the third line in the variable NeededFile\n",
    "    NeededFile=File2.readline()\n",
    "    print(\"Using readline instead readlines[3]:\",NeededFile)\n",
    "  \n"
   ]
  },
  {
   "cell_type": "code",
   "execution_count": 5,
   "metadata": {},
   "outputs": [
    {
     "name": "stdout",
     "output_type": "stream",
     "text": [
      "Print lines by loop, line number 1 :  The method read stores the values of the file in the variable file_stuff as a string.\n",
      "\n",
      "Print lines by loop, line number 2 :  You can print the file content.\n",
      "\n",
      "Print lines by loop, line number 3 :  You can check if the file content is closed, but you cannot read from it outside the indent.\n",
      "\n",
      "Print lines by loop, line number 4 :  But you can print the file content outside the indent as well.\n",
      "\n",
      "Print lines by loop, line number 5 :  We can print the file content.\n",
      "\n",
      "Print lines by loop, line number 6 :  We will see the following.\n",
      "\n",
      "Print lines by loop, line number 7 :  When we examine the raw string, we will see the slash n; this is so Python knows to start\n",
      "\n",
      "Print lines by loop, line number 8 :  a new line.\n",
      "\n",
      "Print lines by loop, line number 9 :  We can output every line as an element in a list using the method readlines.\n"
     ]
    }
   ],
   "source": [
    "#loops in open \n",
    "#using loop for reading files line by line\n",
    "#We can use a loop to print out each line individually as follows\n",
    "num=1\n",
    "with open(\"OPEN_Function.txt\", \"r\") as Filex:\n",
    "    for line in Filex:\n",
    "        print(\"Print lines by loop, line number\", num,\": \",line)\n",
    "        num=num+1\n",
    "    "
   ]
  },
  {
   "cell_type": "code",
   "execution_count": 6,
   "metadata": {},
   "outputs": [
    {
     "name": "stdout",
     "output_type": "stream",
     "text": [
      "The first 4 characters of line 1: The \n",
      "The next 6 characters of line 1: method read stores\n",
      "the next 10 characters of line 1:  the values of \n",
      "The next 12 characters of line 1: the file in the variable \n"
     ]
    }
   ],
   "source": [
    "#Grid\n",
    "#Let's represent every character in a string as a grid\n",
    "with open(\"OPEN_Function.txt\", \"r\") as Filey:\n",
    "    UsedFile=Filey.readline(4)\n",
    "    #When we use a 4 as an argument in the method readline, we print out the first four characters\n",
    "    print(\"The first 4 characters of line 1:\",UsedFile)\n",
    "    UsedFile=Filey.readline(18)\n",
    "    #When we use a 6 as an argument in the method readline, we print out the first four characters\n",
    "    print(\"The next 6 characters of line 1:\",UsedFile)\n",
    "    UsedFile=Filey.readline(15)\n",
    "    #When we use a 10 as an argument in the method readline, we print out the first four characters\n",
    "    print(\"the next 10 characters of line 1:\",UsedFile)\n",
    "    UsedFile=Filey.readline(25)\n",
    "    #When we use a 12 as an argument in the method readline, we print out the first four characters\n",
    "    print(\"The next 12 characters of line 1:\",UsedFile)\n"
   ]
  }
 ],
 "metadata": {
  "kernelspec": {
   "display_name": "Python 3",
   "language": "python",
   "name": "python3"
  },
  "language_info": {
   "codemirror_mode": {
    "name": "ipython",
    "version": 3
   },
   "file_extension": ".py",
   "mimetype": "text/x-python",
   "name": "python",
   "nbconvert_exporter": "python",
   "pygments_lexer": "ipython3",
   "version": "3.7.6"
  }
 },
 "nbformat": 4,
 "nbformat_minor": 4
}
